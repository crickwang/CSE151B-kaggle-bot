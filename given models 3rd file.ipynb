{
 "cells": [
  {
   "cell_type": "code",
   "execution_count": 1,
   "id": "3c0fc7de",
   "metadata": {},
   "outputs": [
    {
     "data": {
      "text/plain": [
       "device(type='cuda')"
      ]
     },
     "execution_count": 1,
     "metadata": {},
     "output_type": "execute_result"
    }
   ],
   "source": [
    "import numpy as np\n",
    "import pandas as pd\n",
    "import matplotlib.pyplot as plt\n",
    "import torch\n",
    "import torch.nn as nn\n",
    "import torch.nn.functional as F\n",
    "from tqdm import tqdm\n",
    "from torch.distributions import Categorical\n",
    "import torch.optim as optim\n",
    "import ast\n",
    "import seaborn as sns\n",
    "from datetime import datetime\n",
    "from sklearn.model_selection import train_test_split\n",
    "import torch.utils.data as Data\n",
    "from sklearn.preprocessing import OneHotEncoder\n",
    "import lightgbm as ltb\n",
    "from sklearn.metrics import mean_squared_error\n",
    "from sklearn.linear_model import LinearRegression\n",
    "from sklearn.ensemble import RandomForestClassifier\n",
    "from sklearn import linear_model\n",
    "import scikitplot as skplt\n",
    "from sklearn import tree\n",
    "import csv\n",
    "import pickle\n",
    "\n",
    "device = torch.device('cuda' if torch.cuda.is_available() else 'cpu')\n",
    "device"
   ]
  },
  {
   "cell_type": "markdown",
   "id": "34f7e125",
   "metadata": {},
   "source": [
    "## Load Data"
   ]
  },
  {
   "cell_type": "code",
   "execution_count": 2,
   "id": "71001a73",
   "metadata": {},
   "outputs": [],
   "source": [
    "public_test = pd.read_csv(\"sampleSubmission.csv\")"
   ]
  },
  {
   "cell_type": "code",
   "execution_count": 3,
   "id": "3376c111",
   "metadata": {},
   "outputs": [],
   "source": [
    "X = pd.read_csv(\"my_train_X.csv\", header=None)\n",
    "y = pd.read_csv(\"my_train_y.csv\", header=None)\n",
    "test = pd.read_csv(\"my_test.csv\", header=None)\n",
    "\n",
    "X_copy = X.copy()\n",
    "y_copy = y.copy()\n",
    "test_copy = test.copy()\n",
    "\n",
    "X_arr = X_copy.to_numpy()\n",
    "y_arr = y_copy.to_numpy()\n",
    "test_arr = test_copy.to_numpy()"
   ]
  },
  {
   "cell_type": "code",
   "execution_count": 4,
   "id": "d6165168",
   "metadata": {},
   "outputs": [],
   "source": [
    "mlp_train = pd.read_csv(\"my_y5_mlp_train.csv\", header=None)\n",
    "mlp_valid = pd.read_csv(\"my_y5_mlp_val.csv\", header=None)\n",
    "mlp_test = pd.read_csv(\"my_y5_mlp_test.csv\", header=None)"
   ]
  },
  {
   "cell_type": "code",
   "execution_count": 5,
   "id": "01299150",
   "metadata": {},
   "outputs": [],
   "source": [
    "X_train, X_test, y_train, y_test = train_test_split(X_arr, y_arr, test_size=0.25, random_state=42)\n",
    "\n",
    "X_train_t = torch.from_numpy(X_train.astype(np.float32))\n",
    "y_train_t = torch.from_numpy(y_train.astype(np.float32))\n",
    "X_test_t = torch.from_numpy(X_test.astype(np.float32))\n",
    "y_test_t = torch.from_numpy(y_test.astype(np.float32))\n",
    "test_X = torch.tensor(test_arr,dtype=torch.float32)\n",
    "\n",
    "model_loss = dict()"
   ]
  },
  {
   "cell_type": "code",
   "execution_count": 6,
   "id": "78cbbc87",
   "metadata": {},
   "outputs": [],
   "source": [
    "X_test_t = X_test_t.to(device)\n",
    "y_test_t = y_test_t.to(device)\n",
    "test_X = test_X.to(device)"
   ]
  },
  {
   "cell_type": "code",
   "execution_count": 7,
   "id": "f77593ed",
   "metadata": {},
   "outputs": [],
   "source": [
    "with open('model_lg.pkl', 'rb') as f:\n",
    "    model_lg = pickle.load(f)\n",
    "    \n",
    "with open('reg.pkl', 'rb') as f:\n",
    "    reg = pickle.load(f)\n",
    "\n",
    "with open('model_rf.pkl', 'rb') as f:\n",
    "    rf = pickle.load(f)\n",
    "    \n",
    "with open('clf.pkl', 'rb') as f:\n",
    "    clf = pickle.load(f)"
   ]
  },
  {
   "cell_type": "markdown",
   "id": "91c71e8f",
   "metadata": {},
   "source": [
    "## Loss Computation"
   ]
  },
  {
   "cell_type": "code",
   "execution_count": 8,
   "id": "f8640bf5",
   "metadata": {},
   "outputs": [
    {
     "data": {
      "text/plain": [
       "[139855.59295627635, 373.9727168608378, 140449.91008050076, 374.76647406151574]"
      ]
     },
     "execution_count": 8,
     "metadata": {},
     "output_type": "execute_result"
    }
   ],
   "source": [
    "y_train_pred_lg = model_lg.predict(X_train)\n",
    "y_test_pred_lg = model_lg.predict(X_test)\n",
    "y_pred = model_lg.predict(test_arr)\n",
    "\n",
    "train_loss_mse = mean_squared_error(y_train_pred_lg, y_train)\n",
    "train_loss_rmse = np.sqrt(train_loss_mse)\n",
    "test_loss_mse = mean_squared_error(y_test_pred_lg, y_test)\n",
    "test_loss_rmse = np.sqrt(test_loss_mse)\n",
    "\n",
    "public_test[\"TRAVEL_TIME\"] = y_pred\n",
    "public_test.to_csv(\"my_pred_lightGBM_noGrid.csv\", index=None)\n",
    "\n",
    "model_loss['lg'] = [train_loss_mse, train_loss_rmse, test_loss_mse, test_loss_rmse]\n",
    "model_loss['lg']"
   ]
  },
  {
   "cell_type": "code",
   "execution_count": 9,
   "id": "9d6305be",
   "metadata": {},
   "outputs": [
    {
     "data": {
      "text/plain": [
       "[142030.53450938614, 376.8693865378112, 142650.31012196973, 377.6907599107631]"
      ]
     },
     "execution_count": 9,
     "metadata": {},
     "output_type": "execute_result"
    }
   ],
   "source": [
    "y_pred_train_li = reg.predict(X_train)\n",
    "y_pred_test_li = reg.predict(X_test)\n",
    "y_pred_li = reg.predict(test_arr)\n",
    "\n",
    "train_mse_li = mean_squared_error(y_pred_train_li, y_train)\n",
    "train_rmse_li = np.sqrt(train_mse_li)\n",
    "test_mse_li = mean_squared_error(y_pred_test_li, y_test)\n",
    "test_rmse_li = np.sqrt(test_mse_li)\n",
    "\n",
    "public_test[\"TRAVEL_TIME\"] = y_pred_li\n",
    "public_test.to_csv(\"my_pred_linear.csv\", index=None)\n",
    "\n",
    "model_loss['li'] = [train_mse_li, train_rmse_li, test_mse_li, test_rmse_li]\n",
    "model_loss['li']"
   ]
  },
  {
   "cell_type": "code",
   "execution_count": 10,
   "id": "fc64fb5d",
   "metadata": {},
   "outputs": [
    {
     "data": {
      "text/plain": [
       "[191389.8288573169, 437.48123257725797, 192193.33849232137, 438.3986068549048]"
      ]
     },
     "execution_count": 10,
     "metadata": {},
     "output_type": "execute_result"
    }
   ],
   "source": [
    "y_train_rf = rf.predict(X_train)\n",
    "y_test_rf = rf.predict(X_test)\n",
    "y_pred_test_rf = rf.predict(test_arr)\n",
    "\n",
    "train_mse_rf = mean_squared_error(y_train_rf, y_train)\n",
    "train_rmse_rf = np.sqrt(train_mse_rf)\n",
    "test_mse_rf = mean_squared_error(y_test_rf, y_test)\n",
    "test_rmse_rf = np.sqrt(test_mse_rf)\n",
    "\n",
    "public_test[\"TRAVEL_TIME\"] = y_pred_test_rf\n",
    "public_test.to_csv(\"my_pred_rf.csv\", index=None)\n",
    "\n",
    "model_loss['rf'] = [train_mse_rf, train_rmse_rf, test_mse_rf, test_rmse_rf]\n",
    "model_loss['rf']"
   ]
  },
  {
   "cell_type": "code",
   "execution_count": 11,
   "id": "e791d283",
   "metadata": {},
   "outputs": [
    {
     "data": {
      "text/plain": [
       "[142031.86947859958, 376.87115766346403, 142652.43747682933, 377.6935761656919]"
      ]
     },
     "execution_count": 11,
     "metadata": {},
     "output_type": "execute_result"
    }
   ],
   "source": [
    "y_train_clf = clf.predict(X_train)\n",
    "y_test_clf = clf.predict(X_test)\n",
    "y_pred_test_clf = clf.predict(test_arr)\n",
    "\n",
    "train_mse_clf = mean_squared_error(y_train_clf, y_train)\n",
    "train_rmse_clf = np.sqrt(train_mse_clf)\n",
    "test_mse_clf = mean_squared_error(y_test_clf, y_test)\n",
    "test_rmse_clf = np.sqrt(test_mse_clf)\n",
    "\n",
    "public_test[\"TRAVEL_TIME\"] = y_pred_test_clf\n",
    "public_test.to_csv(\"naive.csv\", index=None)\n",
    "\n",
    "model_loss['clf'] = [train_mse_clf, train_rmse_clf, test_mse_clf, test_rmse_clf]\n",
    "model_loss['clf']"
   ]
  },
  {
   "cell_type": "code",
   "execution_count": 12,
   "id": "d8829dcf",
   "metadata": {},
   "outputs": [],
   "source": [
    "Y_train = np.hstack((y_train_pred_lg.reshape((len(y_train_pred_lg), 1)), y_pred_train_li, \n",
    "                     y_train_rf.reshape((len(y_train_rf), 1)), y_train_clf.reshape((len(y_train_clf), 1)), \n",
    "                     np.array(mlp_train).reshape((len(mlp_train), 1))))\n",
    "np.savetxt('my_Y_train.csv', Y_train, delimiter=',')\n",
    "\n",
    "Y_valid = np.hstack((y_test_pred_lg.reshape((len(y_test_pred_lg), 1)), y_pred_test_li, \n",
    "                     y_test_rf.reshape((len(y_test_rf), 1)), y_test_clf.reshape((len(y_test_clf), 1)), \n",
    "                     np.array(mlp_valid).reshape((len(mlp_valid), 1))))\n",
    "np.savetxt('my_Y_valid.csv', Y_valid, delimiter=',')\n",
    "\n",
    "Y_test = np.hstack((y_pred.reshape((len(y_pred), 1)), y_pred_li, \n",
    "                    y_pred_test_rf.reshape((len(y_pred_test_rf), 1)), \n",
    "                    y_pred_test_clf.reshape((len(y_pred_test_clf), 1)), \n",
    "                    np.array(mlp_test).reshape((len(mlp_test), 1))))\n",
    "\n",
    "np.savetxt('my_Y_test.csv', Y_test, delimiter=',')"
   ]
  },
  {
   "cell_type": "code",
   "execution_count": null,
   "id": "1340f1f9",
   "metadata": {},
   "outputs": [],
   "source": []
  },
  {
   "cell_type": "code",
   "execution_count": null,
   "id": "635c7438",
   "metadata": {},
   "outputs": [],
   "source": []
  }
 ],
 "metadata": {
  "kernelspec": {
   "display_name": "Python 3 (ipykernel)",
   "language": "python",
   "name": "python3"
  },
  "language_info": {
   "codemirror_mode": {
    "name": "ipython",
    "version": 3
   },
   "file_extension": ".py",
   "mimetype": "text/x-python",
   "name": "python",
   "nbconvert_exporter": "python",
   "pygments_lexer": "ipython3",
   "version": "3.9.16"
  }
 },
 "nbformat": 4,
 "nbformat_minor": 5
}
